{
 "cells": [
  {
   "cell_type": "code",
   "execution_count": 1,
   "metadata": {},
   "outputs": [
    {
     "name": "stdout",
     "output_type": "stream",
     "text": [
      "tf.Tensor(3, shape=(), dtype=int32)\n",
      "tf.Tensor(4, shape=(), dtype=int32)\n"
     ]
    }
   ],
   "source": [
    "import tensorflow as tf\n",
    "\n",
    "a = tf.constant(3)\n",
    "b = tf.constant(4)\n",
    "print(a)\n",
    "print(b)"
   ]
  },
  {
   "cell_type": "code",
   "execution_count": 2,
   "metadata": {},
   "outputs": [
    {
     "name": "stdout",
     "output_type": "stream",
     "text": [
      "tf.Tensor([1. 2. 3.], shape=(3,), dtype=float32)\n",
      "張量: [1. 2. 3.] 是 1 維資料\n",
      "張量: [1. 2. 3.] 的形狀 (3,)\n",
      "張量: [1. 2. 3.] 的長度 3\n"
     ]
    }
   ],
   "source": [
    "a = tf.constant([1.0, 2.0, 3])\n",
    "print(a)\n",
    "print(f'張量: {a} 是 {a.ndim} 維資料')\n",
    "print(f'張量: {a} 的形狀 {a.shape}')\n",
    "print(f'張量: {a} 的長度 {a.shape[0]}')"
   ]
  },
  {
   "cell_type": "code",
   "execution_count": 3,
   "metadata": {},
   "outputs": [
    {
     "name": "stdout",
     "output_type": "stream",
     "text": [
      "tf.Tensor(\n",
      "[[1.  2.  3. ]\n",
      " [4.1 5.  6. ]], shape=(2, 3), dtype=float32)\n",
      "張量: [[1.  2.  3. ]\n",
      " [4.1 5.  6. ]] 是 2 維資料\n",
      "張量: [[1.  2.  3. ]\n",
      " [4.1 5.  6. ]] 的形狀 (2, 3)\n",
      "張量: [[1.  2.  3. ]\n",
      " [4.1 5.  6. ]] 的長度 2\n",
      "張量: [[1.  2.  3. ]\n",
      " [4.1 5.  6. ]] 的長度 3\n"
     ]
    }
   ],
   "source": [
    "a = tf.constant([\n",
    "    [1.0, 2.0, 3],\n",
    "    [4.1, 5, 6]\n",
    "])\n",
    "print(a)\n",
    "print(f'張量: {a} 是 {a.ndim} 維資料')\n",
    "print(f'張量: {a} 的形狀 {a.shape}')\n",
    "print(f'張量: {a} 的長度 {a.shape[0]}')\n",
    "print(f'張量: {a} 的長度 {a.shape[1]}')"
   ]
  }
 ],
 "metadata": {
  "kernelspec": {
   "display_name": "Python 3",
   "language": "python",
   "name": "python3"
  },
  "language_info": {
   "codemirror_mode": {
    "name": "ipython",
    "version": 3
   },
   "file_extension": ".py",
   "mimetype": "text/x-python",
   "name": "python",
   "nbconvert_exporter": "python",
   "pygments_lexer": "ipython3",
   "version": "3.7.6"
  }
 },
 "nbformat": 4,
 "nbformat_minor": 4
}
