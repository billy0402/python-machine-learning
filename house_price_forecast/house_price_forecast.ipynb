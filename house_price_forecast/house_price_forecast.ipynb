{
 "cells": [
  {
   "cell_type": "markdown",
   "metadata": {},
   "source": [
    "# 蒐集資料"
   ]
  },
  {
   "cell_type": "markdown",
   "metadata": {},
   "source": [
    "## 591租屋 爬蟲"
   ]
  },
  {
   "cell_type": "markdown",
   "metadata": {},
   "source": [
    "### 爬取首頁，取得 token"
   ]
  },
  {
   "cell_type": "code",
   "execution_count": 1,
   "metadata": {},
   "outputs": [
    {
     "data": {
      "text/plain": [
       "'LVRQUgDMQn8S2t7f8da9tLZeC34UdDESgLE6Ir89'"
      ]
     },
     "execution_count": 1,
     "metadata": {},
     "output_type": "execute_result"
    }
   ],
   "source": [
    "import requests\n",
    "from bs4 import BeautifulSoup\n",
    "\n",
    "session = requests.session()\n",
    "response1 = session.get('https://rent.591.com.tw/?kind=0&region=1')\n",
    "soup = BeautifulSoup(response1.text, 'html.parser')\n",
    "token = soup.select_one('meta[name=\"csrf-token\"]')['content']\n",
    "token"
   ]
  },
  {
   "cell_type": "markdown",
   "metadata": {},
   "source": [
    "### 嘗試爬取第一頁資料"
   ]
  },
  {
   "cell_type": "code",
   "execution_count": 2,
   "metadata": {},
   "outputs": [
    {
     "data": {
      "text/plain": [
       "dict_keys(['status', 'data', 'records', 'is_recom', 'deal_recom', 'online_social_user', 'bluekai_data'])"
      ]
     },
     "execution_count": 2,
     "metadata": {},
     "output_type": "execute_result"
    }
   ],
   "source": [
    "headers = {\n",
    "    'X-CSRF-TOKEN': token,\n",
    "    'X-Requested-With': 'XMLHttpRequest'\n",
    "}\n",
    "response2 = session.get(\n",
    "    'https://rent.591.com.tw/home/search/rsList?is_new_list=1&type=1&kind=0&searchtype=1&region=1',\n",
    "    headers=headers)\n",
    "response2_json = response2.json()\n",
    "response2_json.keys()"
   ]
  },
  {
   "cell_type": "markdown",
   "metadata": {},
   "source": [
    "### 轉換成資料表，檢查數量及欄位"
   ]
  },
  {
   "cell_type": "code",
   "execution_count": 3,
   "metadata": {},
   "outputs": [
    {
     "name": "stdout",
     "output_type": "stream",
     "text": [
      "total data: 30\n"
     ]
    },
    {
     "data": {
      "text/html": [
       "<div>\n",
       "<style scoped>\n",
       "    .dataframe tbody tr th:only-of-type {\n",
       "        vertical-align: middle;\n",
       "    }\n",
       "\n",
       "    .dataframe tbody tr th {\n",
       "        vertical-align: top;\n",
       "    }\n",
       "\n",
       "    .dataframe thead th {\n",
       "        text-align: right;\n",
       "    }\n",
       "</style>\n",
       "<table border=\"1\" class=\"dataframe\">\n",
       "  <thead>\n",
       "    <tr style=\"text-align: right;\">\n",
       "      <th></th>\n",
       "      <th>id</th>\n",
       "      <th>user_id</th>\n",
       "      <th>address</th>\n",
       "      <th>type</th>\n",
       "      <th>post_id</th>\n",
       "      <th>regionid</th>\n",
       "      <th>sectionid</th>\n",
       "      <th>streetid</th>\n",
       "      <th>room</th>\n",
       "      <th>area</th>\n",
       "      <th>...</th>\n",
       "      <th>icon_class</th>\n",
       "      <th>fulladdress</th>\n",
       "      <th>address_img_title</th>\n",
       "      <th>browsenum_name</th>\n",
       "      <th>unit</th>\n",
       "      <th>houseid</th>\n",
       "      <th>region_name</th>\n",
       "      <th>section_name</th>\n",
       "      <th>addInfo</th>\n",
       "      <th>onepxImg</th>\n",
       "    </tr>\n",
       "  </thead>\n",
       "  <tbody>\n",
       "    <tr>\n",
       "      <th>0</th>\n",
       "      <td>8369405</td>\n",
       "      <td>352699</td>\n",
       "      <td>重慶北路二段~全新..</td>\n",
       "      <td>1</td>\n",
       "      <td>8369405</td>\n",
       "      <td>1</td>\n",
       "      <td>2</td>\n",
       "      <td>25591</td>\n",
       "      <td>2</td>\n",
       "      <td>20.0</td>\n",
       "      <td>...</td>\n",
       "      <td>rent</td>\n",
       "      <td>重慶北路二段~全新裝潢優質兩房~馬上入住~阿智!</td>\n",
       "      <td>~全新裝潢優質兩房~馬上入住~阿智!</td>\n",
       "      <td>昨日瀏覽</td>\n",
       "      <td>元/月</td>\n",
       "      <td>8369405</td>\n",
       "      <td>台北市</td>\n",
       "      <td>大同區</td>\n",
       "      <td></td>\n",
       "      <td></td>\n",
       "    </tr>\n",
       "  </tbody>\n",
       "</table>\n",
       "<p>1 rows × 88 columns</p>\n",
       "</div>"
      ],
      "text/plain": [
       "        id  user_id      address type  post_id  regionid  sectionid  streetid  \\\n",
       "0  8369405   352699  重慶北路二段~全新..    1  8369405         1          2     25591   \n",
       "\n",
       "   room  area  ... icon_class               fulladdress   address_img_title  \\\n",
       "0     2  20.0  ...       rent  重慶北路二段~全新裝潢優質兩房~馬上入住~阿智!  ~全新裝潢優質兩房~馬上入住~阿智!   \n",
       "\n",
       "   browsenum_name  unit  houseid  region_name  section_name  addInfo onepxImg  \n",
       "0            昨日瀏覽   元/月  8369405          台北市           大同區                    \n",
       "\n",
       "[1 rows x 88 columns]"
      ]
     },
     "execution_count": 3,
     "metadata": {},
     "output_type": "execute_result"
    }
   ],
   "source": [
    "import pandas as pd\n",
    "\n",
    "df = pd.DataFrame(response2_json['data']['data'])\n",
    "print('total data:', len(df))\n",
    "df.head(1)"
   ]
  },
  {
   "cell_type": "markdown",
   "metadata": {},
   "source": [
    "### 爬取所有臺北地區資料"
   ]
  },
  {
   "cell_type": "code",
   "execution_count": 4,
   "metadata": {},
   "outputs": [
    {
     "name": "stdout",
     "output_type": "stream",
     "text": [
      "Page: 1\n",
      "Page: 11\n",
      "Page: 21\n",
      "Page: 31\n",
      "Page: 41\n",
      "Page: 51\n",
      "Page: 61\n",
      "Page: 71\n",
      "Page: 81\n",
      "Page: 91\n",
      "Page: 101\n",
      "Page: 111\n",
      "Page: 121\n",
      "Page: 131\n",
      "Page: 141\n",
      "Page: 151\n",
      "Page: 161\n",
      "Page: 171\n",
      "Page: 181\n",
      "Page: 191\n",
      "Page: 201\n",
      "Page: 211\n",
      "Page: 221\n",
      "Page: 231\n",
      "Page: 241\n",
      "Page: 251\n",
      "Page: 261\n",
      "Page: 271\n",
      "Page: 281\n",
      "Page: 291\n",
      "Page: 301\n",
      "Page: 311\n",
      "Page: 321\n",
      "Page: 331\n",
      "Page: 341\n",
      "Page: 351\n",
      "Page: 361\n",
      "Page: 371\n",
      "Page: 381\n"
     ]
    }
   ],
   "source": [
    "import math\n",
    "from time import sleep\n",
    "\n",
    "total_rows = 11500\n",
    "page_rows = 30\n",
    "total_page = math.ceil(total_rows // page_rows)\n",
    "datas = []\n",
    "for page in range(total_page):\n",
    "    first_row = page * page_rows\n",
    "    response3 = session.get(\n",
    "        f'https://rent.591.com.tw/home/search/rsList?is_new_list=1&type=1&kind=0&searchtype=1&region=1'\n",
    "        f'&firstRow={first_row}&totalRows={total_rows}',\n",
    "        headers=headers\n",
    "    )\n",
    "    response3_json = response3.json()\n",
    "    df = pd.DataFrame(response3_json['data']['data'])\n",
    "    datas.append(df)\n",
    "\n",
    "    if page % 10 == 0:\n",
    "        print('Page:', page + 1)\n",
    "\n",
    "    sleep(10)"
   ]
  },
  {
   "cell_type": "markdown",
   "metadata": {},
   "source": [
    "### 輸出成 excel"
   ]
  },
  {
   "cell_type": "code",
   "execution_count": 5,
   "metadata": {},
   "outputs": [
    {
     "name": "stdout",
     "output_type": "stream",
     "text": [
      "total data: 11483\n"
     ]
    }
   ],
   "source": [
    "df = pd.concat(datas)\n",
    "print('total data:', len(df))\n",
    "df.to_excel('591_house_taipei.xlsx')"
   ]
  },
  {
   "cell_type": "markdown",
   "metadata": {},
   "source": [
    "# 資料轉換與清洗"
   ]
  },
  {
   "cell_type": "markdown",
   "metadata": {},
   "source": [
    "## 讀取 excel"
   ]
  },
  {
   "cell_type": "code",
   "execution_count": 1,
   "metadata": {},
   "outputs": [],
   "source": [
    "import pandas as pd\n",
    "\n",
    "temp_df = pd.read_excel('591_house_taipei.xlsx')\n",
    "pd.set_option('display.max_columns', 100)"
   ]
  },
  {
   "cell_type": "code",
   "execution_count": 2,
   "metadata": {},
   "outputs": [
    {
     "data": {
      "text/html": [
       "<div>\n",
       "<style scoped>\n",
       "    .dataframe tbody tr th:only-of-type {\n",
       "        vertical-align: middle;\n",
       "    }\n",
       "\n",
       "    .dataframe tbody tr th {\n",
       "        vertical-align: top;\n",
       "    }\n",
       "\n",
       "    .dataframe thead th {\n",
       "        text-align: right;\n",
       "    }\n",
       "</style>\n",
       "<table border=\"1\" class=\"dataframe\">\n",
       "  <thead>\n",
       "    <tr style=\"text-align: right;\">\n",
       "      <th></th>\n",
       "      <th>Unnamed: 0</th>\n",
       "      <th>id</th>\n",
       "      <th>user_id</th>\n",
       "      <th>address</th>\n",
       "      <th>type</th>\n",
       "      <th>post_id</th>\n",
       "      <th>regionid</th>\n",
       "      <th>sectionid</th>\n",
       "      <th>streetid</th>\n",
       "      <th>room</th>\n",
       "      <th>area</th>\n",
       "      <th>price</th>\n",
       "      <th>storeprice</th>\n",
       "      <th>comment_total</th>\n",
       "      <th>comment_unread</th>\n",
       "      <th>comment_ltime</th>\n",
       "      <th>hasimg</th>\n",
       "      <th>kind</th>\n",
       "      <th>shape</th>\n",
       "      <th>houseage</th>\n",
       "      <th>posttime</th>\n",
       "      <th>updatetime</th>\n",
       "      <th>refreshtime</th>\n",
       "      <th>checkstatus</th>\n",
       "      <th>status</th>\n",
       "      <th>closed</th>\n",
       "      <th>living</th>\n",
       "      <th>condition</th>\n",
       "      <th>isvip</th>\n",
       "      <th>mvip</th>\n",
       "      <th>is_combine</th>\n",
       "      <th>cover</th>\n",
       "      <th>browsenum</th>\n",
       "      <th>browsenum_all</th>\n",
       "      <th>floor2</th>\n",
       "      <th>floor</th>\n",
       "      <th>ltime</th>\n",
       "      <th>cases_id</th>\n",
       "      <th>social_house</th>\n",
       "      <th>distance</th>\n",
       "      <th>search_name</th>\n",
       "      <th>mainarea</th>\n",
       "      <th>balcony_area</th>\n",
       "      <th>groundarea</th>\n",
       "      <th>linkman</th>\n",
       "      <th>housetype</th>\n",
       "      <th>street_name</th>\n",
       "      <th>alley_name</th>\n",
       "      <th>lane_name</th>\n",
       "      <th>addr_number_name</th>\n",
       "      <th>kind_name_img</th>\n",
       "      <th>address_img</th>\n",
       "      <th>cases_name</th>\n",
       "      <th>layout</th>\n",
       "      <th>layout_str</th>\n",
       "      <th>allfloor</th>\n",
       "      <th>floorInfo</th>\n",
       "      <th>house_img</th>\n",
       "      <th>houseimg</th>\n",
       "      <th>cartplace</th>\n",
       "      <th>space_type_str</th>\n",
       "      <th>photo_alt</th>\n",
       "      <th>addition4</th>\n",
       "      <th>addition2</th>\n",
       "      <th>addition3</th>\n",
       "      <th>vipimg</th>\n",
       "      <th>vipstyle</th>\n",
       "      <th>vipBorder</th>\n",
       "      <th>new_list_comment_total</th>\n",
       "      <th>comment_class</th>\n",
       "      <th>price_hide</th>\n",
       "      <th>kind_name</th>\n",
       "      <th>photoNum</th>\n",
       "      <th>filename</th>\n",
       "      <th>nick_name</th>\n",
       "      <th>new_img</th>\n",
       "      <th>regionname</th>\n",
       "      <th>sectionname</th>\n",
       "      <th>icon_name</th>\n",
       "      <th>icon_class</th>\n",
       "      <th>fulladdress</th>\n",
       "      <th>address_img_title</th>\n",
       "      <th>browsenum_name</th>\n",
       "      <th>unit</th>\n",
       "      <th>houseid</th>\n",
       "      <th>region_name</th>\n",
       "      <th>section_name</th>\n",
       "      <th>addInfo</th>\n",
       "      <th>onepxImg</th>\n",
       "    </tr>\n",
       "  </thead>\n",
       "  <tbody>\n",
       "    <tr>\n",
       "      <th>0</th>\n",
       "      <td>0</td>\n",
       "      <td>8388371</td>\n",
       "      <td>2687990</td>\n",
       "      <td>羅斯福路二段66巷古亭捷運..</td>\n",
       "      <td>1</td>\n",
       "      <td>8388371</td>\n",
       "      <td>1</td>\n",
       "      <td>1</td>\n",
       "      <td>25860</td>\n",
       "      <td>2</td>\n",
       "      <td>18.5</td>\n",
       "      <td>36,500</td>\n",
       "      <td>0</td>\n",
       "      <td>0</td>\n",
       "      <td>1</td>\n",
       "      <td>1572778028</td>\n",
       "      <td>1</td>\n",
       "      <td>1</td>\n",
       "      <td>2</td>\n",
       "      <td>0</td>\n",
       "      <td>5分鐘內</td>\n",
       "      <td>1572192630</td>\n",
       "      <td>1574233802</td>\n",
       "      <td>5</td>\n",
       "      <td>NaN</td>\n",
       "      <td>0</td>\n",
       "      <td>advstore,market,night,park,school,hospital</td>\n",
       "      <td>icebox,cold,hotwater,lift,naturalgas,cook,trab...</td>\n",
       "      <td>1</td>\n",
       "      <td>1</td>\n",
       "      <td>1</td>\n",
       "      <td>https://hp1.591.com.tw/house/active/2019/08/30...</td>\n",
       "      <td>135</td>\n",
       "      <td>2646</td>\n",
       "      <td>0</td>\n",
       "      <td>4</td>\n",
       "      <td>2019-11-20 15:12:05</td>\n",
       "      <td>NaN</td>\n",
       "      <td>0</td>\n",
       "      <td>0</td>\n",
       "      <td>NaN</td>\n",
       "      <td>NaN</td>\n",
       "      <td>NaN</td>\n",
       "      <td>NaN</td>\n",
       "      <td>王先生</td>\n",
       "      <td>2</td>\n",
       "      <td>羅斯福路二段</td>\n",
       "      <td>66巷</td>\n",
       "      <td>NaN</td>\n",
       "      <td>2號</td>\n",
       "      <td>整層住家</td>\n",
       "      <td>古亭捷運站口，生活機能好。中正國中學區。</td>\n",
       "      <td>合安大廈</td>\n",
       "      <td>2房2廳1衛</td>\n",
       "      <td>&lt;span class=\"layout\"&gt;2房2廳1衛&lt;/span&gt;，&lt;/span&gt;</td>\n",
       "      <td>12</td>\n",
       "      <td>樓層：4/12</td>\n",
       "      <td>153116192,153116193,153116194,153116195,153116...</td>\n",
       "      <td>NaN</td>\n",
       "      <td>NaN</td>\n",
       "      <td>NaN</td>\n",
       "      <td>台北租屋,中正租屋,整層住家出租,古亭捷運站口，生活機能好。中正國中學區。</td>\n",
       "      <td>1</td>\n",
       "      <td>0</td>\n",
       "      <td>0</td>\n",
       "      <td>NaN</td>\n",
       "      <td>isvip</td>\n",
       "      <td>vipStyle</td>\n",
       "      <td>0</td>\n",
       "      <td>none</td>\n",
       "      <td>price-hide</td>\n",
       "      <td>整層住家</td>\n",
       "      <td>6</td>\n",
       "      <td>https://hp1.591.com.tw/house/active/2019/08/30...</td>\n",
       "      <td>代理人 王先生</td>\n",
       "      <td>NaN</td>\n",
       "      <td>台北市</td>\n",
       "      <td>中正區</td>\n",
       "      <td>出租</td>\n",
       "      <td>rent</td>\n",
       "      <td>羅斯福路二段66巷古亭捷運站口，生活機能好。中正國中學區。</td>\n",
       "      <td>古亭捷運站口，生活機能好。中正國中學區。</td>\n",
       "      <td>昨日瀏覽</td>\n",
       "      <td>元/月</td>\n",
       "      <td>8388371</td>\n",
       "      <td>台北市</td>\n",
       "      <td>中正區</td>\n",
       "      <td>NaN</td>\n",
       "      <td>NaN</td>\n",
       "    </tr>\n",
       "  </tbody>\n",
       "</table>\n",
       "</div>"
      ],
      "text/plain": [
       "   Unnamed: 0       id  user_id          address  type  post_id  regionid  \\\n",
       "0           0  8388371  2687990  羅斯福路二段66巷古亭捷運..     1  8388371         1   \n",
       "\n",
       "   sectionid  streetid  room  area   price  storeprice  comment_total  \\\n",
       "0          1     25860     2  18.5  36,500           0              0   \n",
       "\n",
       "   comment_unread  comment_ltime  hasimg  kind  shape  houseage posttime  \\\n",
       "0               1     1572778028       1     1      2         0     5分鐘內   \n",
       "\n",
       "   updatetime  refreshtime  checkstatus  status  closed  \\\n",
       "0  1572192630   1574233802            5     NaN       0   \n",
       "\n",
       "                                       living  \\\n",
       "0  advstore,market,night,park,school,hospital   \n",
       "\n",
       "                                           condition  isvip  mvip  is_combine  \\\n",
       "0  icebox,cold,hotwater,lift,naturalgas,cook,trab...      1     1           1   \n",
       "\n",
       "                                               cover  browsenum  \\\n",
       "0  https://hp1.591.com.tw/house/active/2019/08/30...        135   \n",
       "\n",
       "   browsenum_all  floor2  floor                ltime  cases_id  social_house  \\\n",
       "0           2646       0      4  2019-11-20 15:12:05       NaN             0   \n",
       "\n",
       "   distance  search_name  mainarea  balcony_area  groundarea linkman  \\\n",
       "0         0          NaN       NaN           NaN         NaN     王先生   \n",
       "\n",
       "   housetype street_name alley_name lane_name addr_number_name kind_name_img  \\\n",
       "0          2      羅斯福路二段        66巷       NaN               2號          整層住家   \n",
       "\n",
       "            address_img cases_name  layout  \\\n",
       "0  古亭捷運站口，生活機能好。中正國中學區。       合安大廈  2房2廳1衛   \n",
       "\n",
       "                                   layout_str  allfloor floorInfo  \\\n",
       "0  <span class=\"layout\">2房2廳1衛</span>，</span>        12   樓層：4/12   \n",
       "\n",
       "                                           house_img  houseimg  cartplace  \\\n",
       "0  153116192,153116193,153116194,153116195,153116...       NaN        NaN   \n",
       "\n",
       "   space_type_str                              photo_alt  addition4  \\\n",
       "0             NaN  台北租屋,中正租屋,整層住家出租,古亭捷運站口，生活機能好。中正國中學區。          1   \n",
       "\n",
       "   addition2  addition3 vipimg vipstyle vipBorder  new_list_comment_total  \\\n",
       "0          0          0    NaN    isvip  vipStyle                       0   \n",
       "\n",
       "  comment_class  price_hide kind_name  photoNum  \\\n",
       "0          none  price-hide      整層住家         6   \n",
       "\n",
       "                                            filename nick_name new_img  \\\n",
       "0  https://hp1.591.com.tw/house/active/2019/08/30...   代理人 王先生     NaN   \n",
       "\n",
       "  regionname sectionname icon_name icon_class                    fulladdress  \\\n",
       "0        台北市         中正區        出租       rent  羅斯福路二段66巷古亭捷運站口，生活機能好。中正國中學區。   \n",
       "\n",
       "      address_img_title browsenum_name unit  houseid region_name section_name  \\\n",
       "0  古亭捷運站口，生活機能好。中正國中學區。           昨日瀏覽  元/月  8388371         台北市          中正區   \n",
       "\n",
       "  addInfo  onepxImg  \n",
       "0     NaN       NaN  "
      ]
     },
     "execution_count": 2,
     "metadata": {},
     "output_type": "execute_result"
    }
   ],
   "source": [
    "df = temp_df\n",
    "df.head(1)"
   ]
  },
  {
   "cell_type": "code",
   "execution_count": 3,
   "metadata": {
    "scrolled": true
   },
   "outputs": [
    {
     "name": "stdout",
     "output_type": "stream",
     "text": [
      "<class 'pandas.core.frame.DataFrame'>\n",
      "RangeIndex: 11483 entries, 0 to 11482\n",
      "Data columns (total 89 columns):\n",
      "Unnamed: 0                11483 non-null int64\n",
      "id                        11483 non-null int64\n",
      "user_id                   11483 non-null int64\n",
      "address                   11483 non-null object\n",
      "type                      11483 non-null int64\n",
      "post_id                   11483 non-null int64\n",
      "regionid                  11483 non-null int64\n",
      "sectionid                 11483 non-null int64\n",
      "streetid                  11483 non-null int64\n",
      "room                      11483 non-null int64\n",
      "area                      11483 non-null float64\n",
      "price                     11483 non-null object\n",
      "storeprice                11483 non-null int64\n",
      "comment_total             11483 non-null int64\n",
      "comment_unread            11483 non-null int64\n",
      "comment_ltime             11483 non-null int64\n",
      "hasimg                    11483 non-null int64\n",
      "kind                      11483 non-null int64\n",
      "shape                     11483 non-null int64\n",
      "houseage                  11483 non-null int64\n",
      "posttime                  11483 non-null object\n",
      "updatetime                11483 non-null int64\n",
      "refreshtime               11483 non-null int64\n",
      "checkstatus               11483 non-null int64\n",
      "status                    0 non-null float64\n",
      "closed                    11483 non-null int64\n",
      "living                    8950 non-null object\n",
      "condition                 11483 non-null object\n",
      "isvip                     11483 non-null int64\n",
      "mvip                      11483 non-null int64\n",
      "is_combine                11483 non-null int64\n",
      "cover                     11483 non-null object\n",
      "browsenum                 11483 non-null int64\n",
      "browsenum_all             11483 non-null int64\n",
      "floor2                    11483 non-null int64\n",
      "floor                     11483 non-null int64\n",
      "ltime                     11483 non-null object\n",
      "cases_id                  7484 non-null float64\n",
      "social_house              11483 non-null int64\n",
      "distance                  11483 non-null int64\n",
      "search_name               0 non-null float64\n",
      "mainarea                  0 non-null float64\n",
      "balcony_area              0 non-null float64\n",
      "groundarea                0 non-null float64\n",
      "linkman                   11483 non-null object\n",
      "housetype                 11483 non-null int64\n",
      "street_name               11483 non-null object\n",
      "alley_name                5324 non-null object\n",
      "lane_name                 240 non-null object\n",
      "addr_number_name          1711 non-null object\n",
      "kind_name_img             11483 non-null object\n",
      "address_img               11482 non-null object\n",
      "cases_name                5459 non-null object\n",
      "layout                    7039 non-null object\n",
      "layout_str                7008 non-null object\n",
      "allfloor                  11483 non-null int64\n",
      "floorInfo                 11025 non-null object\n",
      "house_img                 11483 non-null object\n",
      "houseimg                  0 non-null float64\n",
      "cartplace                 0 non-null float64\n",
      "space_type_str            0 non-null float64\n",
      "photo_alt                 11483 non-null object\n",
      "addition4                 11483 non-null int64\n",
      "addition2                 11483 non-null int64\n",
      "addition3                 11483 non-null int64\n",
      "vipimg                    1163 non-null object\n",
      "vipstyle                  1388 non-null object\n",
      "vipBorder                 1388 non-null object\n",
      "new_list_comment_total    11483 non-null int64\n",
      "comment_class             10772 non-null object\n",
      "price_hide                11483 non-null object\n",
      "kind_name                 11483 non-null object\n",
      "photoNum                  11483 non-null int64\n",
      "filename                  11483 non-null object\n",
      "nick_name                 11483 non-null object\n",
      "new_img                   926 non-null object\n",
      "regionname                11483 non-null object\n",
      "sectionname               11483 non-null object\n",
      "icon_name                 11483 non-null object\n",
      "icon_class                11483 non-null object\n",
      "fulladdress               11483 non-null object\n",
      "address_img_title         11482 non-null object\n",
      "browsenum_name            11483 non-null object\n",
      "unit                      11483 non-null object\n",
      "houseid                   11483 non-null int64\n",
      "region_name               11483 non-null object\n",
      "section_name              11483 non-null object\n",
      "addInfo                   1163 non-null object\n",
      "onepxImg                  0 non-null float64\n",
      "dtypes: float64(11), int64(38), object(40)\n",
      "memory usage: 7.8+ MB\n"
     ]
    }
   ],
   "source": [
    "df.info()"
   ]
  },
  {
   "cell_type": "markdown",
   "metadata": {},
   "source": [
    "## 資料轉換"
   ]
  },
  {
   "cell_type": "code",
   "execution_count": 4,
   "metadata": {
    "scrolled": true
   },
   "outputs": [
    {
     "data": {
      "text/html": [
       "<div>\n",
       "<style scoped>\n",
       "    .dataframe tbody tr th:only-of-type {\n",
       "        vertical-align: middle;\n",
       "    }\n",
       "\n",
       "    .dataframe tbody tr th {\n",
       "        vertical-align: top;\n",
       "    }\n",
       "\n",
       "    .dataframe thead th {\n",
       "        text-align: right;\n",
       "    }\n",
       "</style>\n",
       "<table border=\"1\" class=\"dataframe\">\n",
       "  <thead>\n",
       "    <tr style=\"text-align: right;\">\n",
       "      <th></th>\n",
       "      <th>address</th>\n",
       "      <th>price</th>\n",
       "      <th>posttime</th>\n",
       "      <th>living</th>\n",
       "      <th>condition</th>\n",
       "      <th>cover</th>\n",
       "      <th>ltime</th>\n",
       "      <th>linkman</th>\n",
       "      <th>street_name</th>\n",
       "      <th>alley_name</th>\n",
       "      <th>lane_name</th>\n",
       "      <th>addr_number_name</th>\n",
       "      <th>kind_name_img</th>\n",
       "      <th>address_img</th>\n",
       "      <th>cases_name</th>\n",
       "      <th>layout</th>\n",
       "      <th>layout_str</th>\n",
       "      <th>floorInfo</th>\n",
       "      <th>house_img</th>\n",
       "      <th>photo_alt</th>\n",
       "      <th>vipimg</th>\n",
       "      <th>vipstyle</th>\n",
       "      <th>vipBorder</th>\n",
       "      <th>comment_class</th>\n",
       "      <th>price_hide</th>\n",
       "      <th>kind_name</th>\n",
       "      <th>filename</th>\n",
       "      <th>nick_name</th>\n",
       "      <th>new_img</th>\n",
       "      <th>regionname</th>\n",
       "      <th>sectionname</th>\n",
       "      <th>icon_name</th>\n",
       "      <th>icon_class</th>\n",
       "      <th>fulladdress</th>\n",
       "      <th>address_img_title</th>\n",
       "      <th>browsenum_name</th>\n",
       "      <th>unit</th>\n",
       "      <th>region_name</th>\n",
       "      <th>section_name</th>\n",
       "      <th>addInfo</th>\n",
       "    </tr>\n",
       "  </thead>\n",
       "  <tbody>\n",
       "    <tr>\n",
       "      <th>0</th>\n",
       "      <td>羅斯福路二段66巷古亭捷運..</td>\n",
       "      <td>36,500</td>\n",
       "      <td>5分鐘內</td>\n",
       "      <td>advstore,market,night,park,school,hospital</td>\n",
       "      <td>icebox,cold,hotwater,lift,naturalgas,cook,trab...</td>\n",
       "      <td>https://hp1.591.com.tw/house/active/2019/08/30...</td>\n",
       "      <td>2019-11-20 15:12:05</td>\n",
       "      <td>王先生</td>\n",
       "      <td>羅斯福路二段</td>\n",
       "      <td>66巷</td>\n",
       "      <td>NaN</td>\n",
       "      <td>2號</td>\n",
       "      <td>整層住家</td>\n",
       "      <td>古亭捷運站口，生活機能好。中正國中學區。</td>\n",
       "      <td>合安大廈</td>\n",
       "      <td>2房2廳1衛</td>\n",
       "      <td>&lt;span class=\"layout\"&gt;2房2廳1衛&lt;/span&gt;，&lt;/span&gt;</td>\n",
       "      <td>樓層：4/12</td>\n",
       "      <td>153116192,153116193,153116194,153116195,153116...</td>\n",
       "      <td>台北租屋,中正租屋,整層住家出租,古亭捷運站口，生活機能好。中正國中學區。</td>\n",
       "      <td>NaN</td>\n",
       "      <td>isvip</td>\n",
       "      <td>vipStyle</td>\n",
       "      <td>none</td>\n",
       "      <td>price-hide</td>\n",
       "      <td>整層住家</td>\n",
       "      <td>https://hp1.591.com.tw/house/active/2019/08/30...</td>\n",
       "      <td>代理人 王先生</td>\n",
       "      <td>NaN</td>\n",
       "      <td>台北市</td>\n",
       "      <td>中正區</td>\n",
       "      <td>出租</td>\n",
       "      <td>rent</td>\n",
       "      <td>羅斯福路二段66巷古亭捷運站口，生活機能好。中正國中學區。</td>\n",
       "      <td>古亭捷運站口，生活機能好。中正國中學區。</td>\n",
       "      <td>昨日瀏覽</td>\n",
       "      <td>元/月</td>\n",
       "      <td>台北市</td>\n",
       "      <td>中正區</td>\n",
       "      <td>NaN</td>\n",
       "    </tr>\n",
       "  </tbody>\n",
       "</table>\n",
       "</div>"
      ],
      "text/plain": [
       "           address   price posttime  \\\n",
       "0  羅斯福路二段66巷古亭捷運..  36,500     5分鐘內   \n",
       "\n",
       "                                       living  \\\n",
       "0  advstore,market,night,park,school,hospital   \n",
       "\n",
       "                                           condition  \\\n",
       "0  icebox,cold,hotwater,lift,naturalgas,cook,trab...   \n",
       "\n",
       "                                               cover                ltime  \\\n",
       "0  https://hp1.591.com.tw/house/active/2019/08/30...  2019-11-20 15:12:05   \n",
       "\n",
       "  linkman street_name alley_name lane_name addr_number_name kind_name_img  \\\n",
       "0     王先生      羅斯福路二段        66巷       NaN               2號          整層住家   \n",
       "\n",
       "            address_img cases_name  layout  \\\n",
       "0  古亭捷運站口，生活機能好。中正國中學區。       合安大廈  2房2廳1衛   \n",
       "\n",
       "                                   layout_str floorInfo  \\\n",
       "0  <span class=\"layout\">2房2廳1衛</span>，</span>   樓層：4/12   \n",
       "\n",
       "                                           house_img  \\\n",
       "0  153116192,153116193,153116194,153116195,153116...   \n",
       "\n",
       "                               photo_alt vipimg vipstyle vipBorder  \\\n",
       "0  台北租屋,中正租屋,整層住家出租,古亭捷運站口，生活機能好。中正國中學區。    NaN    isvip  vipStyle   \n",
       "\n",
       "  comment_class  price_hide kind_name  \\\n",
       "0          none  price-hide      整層住家   \n",
       "\n",
       "                                            filename nick_name new_img  \\\n",
       "0  https://hp1.591.com.tw/house/active/2019/08/30...   代理人 王先生     NaN   \n",
       "\n",
       "  regionname sectionname icon_name icon_class                    fulladdress  \\\n",
       "0        台北市         中正區        出租       rent  羅斯福路二段66巷古亭捷運站口，生活機能好。中正國中學區。   \n",
       "\n",
       "      address_img_title browsenum_name unit region_name section_name addInfo  \n",
       "0  古亭捷運站口，生活機能好。中正國中學區。           昨日瀏覽  元/月         台北市          中正區     NaN  "
      ]
     },
     "execution_count": 4,
     "metadata": {},
     "output_type": "execute_result"
    }
   ],
   "source": [
    "# df.drop(['addInfo', 'addr_number_name', 'address', 'address_img', 'address_img_title', 'alley_name', 'browsenum_name',\n",
    "#          'cases_name', 'comment_class', 'cover', 'filename', 'fulladdress', 'house_img', 'icon_class', 'icon_name',\n",
    "#          'kind_name_img', 'lane_name', 'layout_str', 'linkman', 'new_img', 'nick_name', 'photo_alt', 'posttime',\n",
    "#          'region_name', 'regionname', 'sectionname', 'street_name', 'unit', 'vipBorder', 'vipimg'],\n",
    "#         axis=1, inplace=True)\n",
    "df.head(1).select_dtypes(include='object')"
   ]
  },
  {
   "cell_type": "code",
   "execution_count": 5,
   "metadata": {},
   "outputs": [
    {
     "data": {
      "text/plain": [
       "0    0\n",
       "Name: section_id, dtype: int64"
      ]
     },
     "execution_count": 5,
     "metadata": {},
     "output_type": "execute_result"
    }
   ],
   "source": [
    "section_mapping = {\n",
    "    '中正區': 0,\n",
    "    '大同區': 1,\n",
    "    '中山區': 2,\n",
    "    '松山區': 3,\n",
    "    '大安區': 4,\n",
    "    '萬華區': 5,\n",
    "    '信義區': 6,\n",
    "    '士林區': 7,\n",
    "    '北投區': 8,\n",
    "    '內湖區': 9,\n",
    "    '南港區': 10,\n",
    "    '文山區': 11,\n",
    "}\n",
    "df['section_id'] = df['section_name'].map(lambda x: section_mapping.get(x))\n",
    "df['section_id'].head(1)"
   ]
  },
  {
   "cell_type": "code",
   "execution_count": 6,
   "metadata": {},
   "outputs": [
    {
     "data": {
      "text/html": [
       "<div>\n",
       "<style scoped>\n",
       "    .dataframe tbody tr th:only-of-type {\n",
       "        vertical-align: middle;\n",
       "    }\n",
       "\n",
       "    .dataframe tbody tr th {\n",
       "        vertical-align: top;\n",
       "    }\n",
       "\n",
       "    .dataframe thead th {\n",
       "        text-align: right;\n",
       "    }\n",
       "</style>\n",
       "<table border=\"1\" class=\"dataframe\">\n",
       "  <thead>\n",
       "    <tr style=\"text-align: right;\">\n",
       "      <th></th>\n",
       "      <th>bedroom</th>\n",
       "      <th>livingroom</th>\n",
       "      <th>bathroom</th>\n",
       "    </tr>\n",
       "  </thead>\n",
       "  <tbody>\n",
       "    <tr>\n",
       "      <th>0</th>\n",
       "      <td>2</td>\n",
       "      <td>2</td>\n",
       "      <td>1</td>\n",
       "    </tr>\n",
       "  </tbody>\n",
       "</table>\n",
       "</div>"
      ],
      "text/plain": [
       "   bedroom  livingroom  bathroom\n",
       "0        2           2         1"
      ]
     },
     "execution_count": 6,
     "metadata": {},
     "output_type": "execute_result"
    }
   ],
   "source": [
    "df[['bedroom', 'livingroom', 'bathroom']] = df['layout'].str.extract('(\\d?)房(\\d?)廳(\\d?)衛').fillna('0').astype(int)\n",
    "df[['bedroom', 'livingroom', 'bathroom']].head(1)"
   ]
  },
  {
   "cell_type": "code",
   "execution_count": 7,
   "metadata": {},
   "outputs": [
    {
     "data": {
      "text/plain": [
       "0    36500\n",
       "Name: price, dtype: int64"
      ]
     },
     "execution_count": 7,
     "metadata": {},
     "output_type": "execute_result"
    }
   ],
   "source": [
    "df['price'] = df['price'].map(lambda x: int(x.replace(',', '')))\n",
    "# df['address'].str.extract('(.+?[縣市])(.+?[區市鄉鎮])(.+?[路街巷])').head()\n",
    "df['price'].head(1)"
   ]
  },
  {
   "cell_type": "code",
   "execution_count": 8,
   "metadata": {},
   "outputs": [],
   "source": [
    "# df = df.select_dtypes(exclude=['object'])"
   ]
  },
  {
   "cell_type": "markdown",
   "metadata": {},
   "source": [
    "## 繪制圖表"
   ]
  },
  {
   "cell_type": "code",
   "execution_count": 9,
   "metadata": {},
   "outputs": [
    {
     "name": "stdout",
     "output_type": "stream",
     "text": [
      "Populating the interactive namespace from numpy and matplotlib\n"
     ]
    },
    {
     "data": {
      "text/plain": [
       "<matplotlib.axes._subplots.AxesSubplot at 0x11dc46b90>"
      ]
     },
     "execution_count": 9,
     "metadata": {},
     "output_type": "execute_result"
    },
    {
     "data": {
      "image/png": "[encoded data removed]",
      "text/plain": [
       "<Figure size 432x288 with 1 Axes>"
      ]
     },
     "metadata": {
      "needs_background": "light"
     },
     "output_type": "display_data"
    }
   ],
   "source": [
    "%pylab inline\n",
    "df = df[df['area'] < 300]\n",
    "df.plot(x='area', y='price', kind='scatter')"
   ]
  },
  {
   "cell_type": "code",
   "execution_count": 10,
   "metadata": {
    "scrolled": true
   },
   "outputs": [
    {
     "data": {
      "text/plain": [
       "array([[<matplotlib.axes._subplots.AxesSubplot object at 0x11dc46e50>,\n",
       "        <matplotlib.axes._subplots.AxesSubplot object at 0x11e0b8e50>]],\n",
       "      dtype=object)"
      ]
     },
     "execution_count": 10,
     "metadata": {},
     "output_type": "execute_result"
    },
    {
     "data": {
      "image/png": "[encoded data removed]",
      "text/plain": [
       "<Figure size 432x288 with 2 Axes>"
      ]
     },
     "metadata": {
      "needs_background": "light"
     },
     "output_type": "display_data"
    }
   ],
   "source": [
    "prices = pd.DataFrame({'price': df['price'], 'log(price + 1)': np.log1p(df['price'])})\n",
    "prices.hist()"
   ]
  },
  {
   "cell_type": "markdown",
   "metadata": {},
   "source": [
    "# 回歸分析"
   ]
  },
  {
   "cell_type": "markdown",
   "metadata": {},
   "source": [
    "## 線性回歸"
   ]
  },
  {
   "cell_type": "code",
   "execution_count": 11,
   "metadata": {},
   "outputs": [
    {
     "data": {
      "text/plain": [
       "LinearRegression(copy_X=True, fit_intercept=True, n_jobs=None, normalize=False)"
      ]
     },
     "execution_count": 11,
     "metadata": {},
     "output_type": "execute_result"
    }
   ],
   "source": [
    "from sklearn.linear_model import LinearRegression\n",
    "\n",
    "clf = LinearRegression()\n",
    "X = df[['area']]\n",
    "Y = df['price'].values\n",
    "clf.fit(X, Y)"
   ]
  },
  {
   "cell_type": "code",
   "execution_count": 12,
   "metadata": {
    "scrolled": true
   },
   "outputs": [
    {
     "data": {
      "text/plain": [
       "0    18.5\n",
       "1     5.0\n",
       "2    69.0\n",
       "3     7.0\n",
       "4    40.0\n",
       "Name: area, dtype: float64"
      ]
     },
     "execution_count": 12,
     "metadata": {},
     "output_type": "execute_result"
    }
   ],
   "source": [
    "df['area'][0:5]"
   ]
  },
  {
   "cell_type": "code",
   "execution_count": 13,
   "metadata": {},
   "outputs": [
    {
     "data": {
      "text/plain": [
       "array([ 28057.73527457,   8789.09244448, 100136.73252786,  11643.70619709,\n",
       "        58744.83311508])"
      ]
     },
     "execution_count": 13,
     "metadata": {},
     "output_type": "execute_result"
    }
   ],
   "source": [
    "clf.predict(X)[0:5]"
   ]
  },
  {
   "cell_type": "code",
   "execution_count": 14,
   "metadata": {
    "scrolled": true
   },
   "outputs": [
    {
     "data": {
      "image/png": "[encoded data removed]",
      "text/plain": [
       "<Figure size 432x288 with 1 Axes>"
      ]
     },
     "metadata": {
      "needs_background": "light"
     },
     "output_type": "display_data"
    }
   ],
   "source": [
    "plt.scatter(X, Y)\n",
    "plt.plot(X, clf.predict(X))\n",
    "plt.show()"
   ]
  },
  {
   "cell_type": "markdown",
   "metadata": {},
   "source": [
    "## 多項式線性回歸"
   ]
  },
  {
   "cell_type": "code",
   "execution_count": 15,
   "metadata": {},
   "outputs": [
    {
     "data": {
      "text/plain": [
       "LinearRegression(copy_X=True, fit_intercept=True, n_jobs=None, normalize=False)"
      ]
     },
     "execution_count": 15,
     "metadata": {},
     "output_type": "execute_result"
    }
   ],
   "source": [
    "from sklearn.linear_model import LinearRegression\n",
    "from sklearn.preprocessing import PolynomialFeatures\n",
    "\n",
    "poly_reg = PolynomialFeatures(degree=3)\n",
    "X_ = poly_reg.fit_transform(X)\n",
    "regr = LinearRegression()\n",
    "regr.fit(X_, Y)"
   ]
  },
  {
   "cell_type": "code",
   "execution_count": 16,
   "metadata": {},
   "outputs": [
    {
     "data": {
      "image/png": "[encoded data removed]",
      "text/plain": [
       "<Figure size 432x288 with 1 Axes>"
      ]
     },
     "metadata": {
      "needs_background": "light"
     },
     "output_type": "display_data"
    }
   ],
   "source": [
    "X2 = X.sort_values(['area'])\n",
    "X2_ = poly_reg.transform(X2)\n",
    "\n",
    "plt.scatter(X, Y)\n",
    "plt.plot(X2, regr.predict(X2_))\n",
    "plt.show()"
   ]
  },
  {
   "cell_type": "markdown",
   "metadata": {},
   "source": [
    "# 多元回歸分析"
   ]
  },
  {
   "cell_type": "markdown",
   "metadata": {},
   "source": [
    "## 確認參數"
   ]
  },
  {
   "cell_type": "code",
   "execution_count": 17,
   "metadata": {
    "scrolled": true
   },
   "outputs": [
    {
     "name": "stdout",
     "output_type": "stream",
     "text": [
      "<class 'pandas.core.frame.DataFrame'>\n",
      "Int64Index: 11477 entries, 0 to 11482\n",
      "Data columns (total 93 columns):\n",
      "Unnamed: 0                11477 non-null int64\n",
      "id                        11477 non-null int64\n",
      "user_id                   11477 non-null int64\n",
      "address                   11477 non-null object\n",
      "type                      11477 non-null int64\n",
      "post_id                   11477 non-null int64\n",
      "regionid                  11477 non-null int64\n",
      "sectionid                 11477 non-null int64\n",
      "streetid                  11477 non-null int64\n",
      "room                      11477 non-null int64\n",
      "area                      11477 non-null float64\n",
      "price                     11477 non-null int64\n",
      "storeprice                11477 non-null int64\n",
      "comment_total             11477 non-null int64\n",
      "comment_unread            11477 non-null int64\n",
      "comment_ltime             11477 non-null int64\n",
      "hasimg                    11477 non-null int64\n",
      "kind                      11477 non-null int64\n",
      "shape                     11477 non-null int64\n",
      "houseage                  11477 non-null int64\n",
      "posttime                  11477 non-null object\n",
      "updatetime                11477 non-null int64\n",
      "refreshtime               11477 non-null int64\n",
      "checkstatus               11477 non-null int64\n",
      "status                    0 non-null float64\n",
      "closed                    11477 non-null int64\n",
      "living                    8944 non-null object\n",
      "condition                 11477 non-null object\n",
      "isvip                     11477 non-null int64\n",
      "mvip                      11477 non-null int64\n",
      "is_combine                11477 non-null int64\n",
      "cover                     11477 non-null object\n",
      "browsenum                 11477 non-null int64\n",
      "browsenum_all             11477 non-null int64\n",
      "floor2                    11477 non-null int64\n",
      "floor                     11477 non-null int64\n",
      "ltime                     11477 non-null object\n",
      "cases_id                  7481 non-null float64\n",
      "social_house              11477 non-null int64\n",
      "distance                  11477 non-null int64\n",
      "search_name               0 non-null float64\n",
      "mainarea                  0 non-null float64\n",
      "balcony_area              0 non-null float64\n",
      "groundarea                0 non-null float64\n",
      "linkman                   11477 non-null object\n",
      "housetype                 11477 non-null int64\n",
      "street_name               11477 non-null object\n",
      "alley_name                5324 non-null object\n",
      "lane_name                 240 non-null object\n",
      "addr_number_name          1711 non-null object\n",
      "kind_name_img             11477 non-null object\n",
      "address_img               11476 non-null object\n",
      "cases_name                5455 non-null object\n",
      "layout                    7033 non-null object\n",
      "layout_str                7002 non-null object\n",
      "allfloor                  11477 non-null int64\n",
      "floorInfo                 11019 non-null object\n",
      "house_img                 11477 non-null object\n",
      "houseimg                  0 non-null float64\n",
      "cartplace                 0 non-null float64\n",
      "space_type_str            0 non-null float64\n",
      "photo_alt                 11477 non-null object\n",
      "addition4                 11477 non-null int64\n",
      "addition2                 11477 non-null int64\n",
      "addition3                 11477 non-null int64\n",
      "vipimg                    1163 non-null object\n",
      "vipstyle                  1388 non-null object\n",
      "vipBorder                 1388 non-null object\n",
      "new_list_comment_total    11477 non-null int64\n",
      "comment_class             10767 non-null object\n",
      "price_hide                11477 non-null object\n",
      "kind_name                 11477 non-null object\n",
      "photoNum                  11477 non-null int64\n",
      "filename                  11477 non-null object\n",
      "nick_name                 11477 non-null object\n",
      "new_img                   925 non-null object\n",
      "regionname                11477 non-null object\n",
      "sectionname               11477 non-null object\n",
      "icon_name                 11477 non-null object\n",
      "icon_class                11477 non-null object\n",
      "fulladdress               11477 non-null object\n",
      "address_img_title         11476 non-null object\n",
      "browsenum_name            11477 non-null object\n",
      "unit                      11477 non-null object\n",
      "houseid                   11477 non-null int64\n",
      "region_name               11477 non-null object\n",
      "section_name              11477 non-null object\n",
      "addInfo                   1163 non-null object\n",
      "onepxImg                  0 non-null float64\n",
      "section_id                11477 non-null int64\n",
      "bedroom                   11477 non-null int64\n",
      "livingroom                11477 non-null int64\n",
      "bathroom                  11477 non-null int64\n",
      "dtypes: float64(11), int64(43), object(39)\n",
      "memory usage: 8.2+ MB\n"
     ]
    }
   ],
   "source": [
    "df.info()"
   ]
  },
  {
   "cell_type": "code",
   "execution_count": 18,
   "metadata": {},
   "outputs": [
    {
     "data": {
      "text/html": [
       "<div>\n",
       "<style scoped>\n",
       "    .dataframe tbody tr th:only-of-type {\n",
       "        vertical-align: middle;\n",
       "    }\n",
       "\n",
       "    .dataframe tbody tr th {\n",
       "        vertical-align: top;\n",
       "    }\n",
       "\n",
       "    .dataframe thead th {\n",
       "        text-align: right;\n",
       "    }\n",
       "</style>\n",
       "<table border=\"1\" class=\"dataframe\">\n",
       "  <thead>\n",
       "    <tr style=\"text-align: right;\">\n",
       "      <th></th>\n",
       "      <th>Unnamed: 0</th>\n",
       "      <th>id</th>\n",
       "      <th>user_id</th>\n",
       "      <th>type</th>\n",
       "      <th>post_id</th>\n",
       "      <th>regionid</th>\n",
       "      <th>sectionid</th>\n",
       "      <th>streetid</th>\n",
       "      <th>room</th>\n",
       "      <th>price</th>\n",
       "      <th>storeprice</th>\n",
       "      <th>comment_total</th>\n",
       "      <th>comment_unread</th>\n",
       "      <th>comment_ltime</th>\n",
       "      <th>hasimg</th>\n",
       "      <th>kind</th>\n",
       "      <th>shape</th>\n",
       "      <th>houseage</th>\n",
       "      <th>updatetime</th>\n",
       "      <th>refreshtime</th>\n",
       "      <th>checkstatus</th>\n",
       "      <th>closed</th>\n",
       "      <th>isvip</th>\n",
       "      <th>mvip</th>\n",
       "      <th>is_combine</th>\n",
       "      <th>browsenum</th>\n",
       "      <th>browsenum_all</th>\n",
       "      <th>floor2</th>\n",
       "      <th>floor</th>\n",
       "      <th>social_house</th>\n",
       "      <th>distance</th>\n",
       "      <th>housetype</th>\n",
       "      <th>allfloor</th>\n",
       "      <th>addition4</th>\n",
       "      <th>addition2</th>\n",
       "      <th>addition3</th>\n",
       "      <th>new_list_comment_total</th>\n",
       "      <th>photoNum</th>\n",
       "      <th>houseid</th>\n",
       "      <th>section_id</th>\n",
       "      <th>bedroom</th>\n",
       "      <th>livingroom</th>\n",
       "      <th>bathroom</th>\n",
       "    </tr>\n",
       "  </thead>\n",
       "  <tbody>\n",
       "    <tr>\n",
       "      <th>0</th>\n",
       "      <td>0</td>\n",
       "      <td>8388371</td>\n",
       "      <td>2687990</td>\n",
       "      <td>1</td>\n",
       "      <td>8388371</td>\n",
       "      <td>1</td>\n",
       "      <td>1</td>\n",
       "      <td>25860</td>\n",
       "      <td>2</td>\n",
       "      <td>36500</td>\n",
       "      <td>0</td>\n",
       "      <td>0</td>\n",
       "      <td>1</td>\n",
       "      <td>1572778028</td>\n",
       "      <td>1</td>\n",
       "      <td>1</td>\n",
       "      <td>2</td>\n",
       "      <td>0</td>\n",
       "      <td>1572192630</td>\n",
       "      <td>1574233802</td>\n",
       "      <td>5</td>\n",
       "      <td>0</td>\n",
       "      <td>1</td>\n",
       "      <td>1</td>\n",
       "      <td>1</td>\n",
       "      <td>135</td>\n",
       "      <td>2646</td>\n",
       "      <td>0</td>\n",
       "      <td>4</td>\n",
       "      <td>0</td>\n",
       "      <td>0</td>\n",
       "      <td>2</td>\n",
       "      <td>12</td>\n",
       "      <td>1</td>\n",
       "      <td>0</td>\n",
       "      <td>0</td>\n",
       "      <td>0</td>\n",
       "      <td>6</td>\n",
       "      <td>8388371</td>\n",
       "      <td>0</td>\n",
       "      <td>2</td>\n",
       "      <td>2</td>\n",
       "      <td>1</td>\n",
       "    </tr>\n",
       "  </tbody>\n",
       "</table>\n",
       "</div>"
      ],
      "text/plain": [
       "   Unnamed: 0       id  user_id  type  post_id  regionid  sectionid  streetid  \\\n",
       "0           0  8388371  2687990     1  8388371         1          1     25860   \n",
       "\n",
       "   room  price  storeprice  comment_total  comment_unread  comment_ltime  \\\n",
       "0     2  36500           0              0               1     1572778028   \n",
       "\n",
       "   hasimg  kind  shape  houseage  updatetime  refreshtime  checkstatus  \\\n",
       "0       1     1      2         0  1572192630   1574233802            5   \n",
       "\n",
       "   closed  isvip  mvip  is_combine  browsenum  browsenum_all  floor2  floor  \\\n",
       "0       0      1     1           1        135           2646       0      4   \n",
       "\n",
       "   social_house  distance  housetype  allfloor  addition4  addition2  \\\n",
       "0             0         0          2        12          1          0   \n",
       "\n",
       "   addition3  new_list_comment_total  photoNum  houseid  section_id  bedroom  \\\n",
       "0          0                       0         6  8388371           0        2   \n",
       "\n",
       "   livingroom  bathroom  \n",
       "0           2         1  "
      ]
     },
     "execution_count": 18,
     "metadata": {},
     "output_type": "execute_result"
    }
   ],
   "source": [
    "df.head(1).select_dtypes(int)"
   ]
  },
  {
   "cell_type": "code",
   "execution_count": 19,
   "metadata": {
    "scrolled": true
   },
   "outputs": [
    {
     "data": {
      "text/plain": [
       "(array([2, 0, 4, 3, 1, 5, 7, 6, 8, 9]), 10)"
      ]
     },
     "execution_count": 19,
     "metadata": {},
     "output_type": "execute_result"
    }
   ],
   "source": [
    "column_type = df['bedroom'].unique()\n",
    "column_type, len(column_type)"
   ]
  },
  {
   "cell_type": "markdown",
   "metadata": {},
   "source": [
    "## 多元回歸分析 - 所有可能參數"
   ]
  },
  {
   "cell_type": "code",
   "execution_count": 20,
   "metadata": {},
   "outputs": [
    {
     "data": {
      "text/plain": [
       "LinearRegression(copy_X=True, fit_intercept=True, n_jobs=None, normalize=False)"
      ]
     },
     "execution_count": 20,
     "metadata": {},
     "output_type": "execute_result"
    }
   ],
   "source": [
    "from sklearn.linear_model import LinearRegression\n",
    "\n",
    "regression = LinearRegression()\n",
    "X = df[['sectionid', 'housetype', 'area', 'floor', 'allfloor',\n",
    "        'bedroom', 'livingroom', 'bathroom',\n",
    "        'id', 'post_id', 'kind']]\n",
    "Y = df['price'].values\n",
    "regression.fit(X, Y)"
   ]
  },
  {
   "cell_type": "code",
   "execution_count": 21,
   "metadata": {},
   "outputs": [
    {
     "data": {
      "text/plain": [
       "array([ 28363.35657157,   9874.33423102, 100053.36203708,  10913.03794323,\n",
       "        44675.1612189 ])"
      ]
     },
     "execution_count": 21,
     "metadata": {},
     "output_type": "execute_result"
    }
   ],
   "source": [
    "regression.predict(X)[0:5]"
   ]
  },
  {
   "cell_type": "markdown",
   "metadata": {},
   "source": [
    "## OLS - 參數評估"
   ]
  },
  {
   "cell_type": "code",
   "execution_count": 22,
   "metadata": {
    "scrolled": true
   },
   "outputs": [
    {
     "name": "stdout",
     "output_type": "stream",
     "text": [
      "                            OLS Regression Results                            \n",
      "==============================================================================\n",
      "Dep. Variable:                      y   R-squared:                       0.796\n",
      "Model:                            OLS   Adj. R-squared:                  0.796\n",
      "Method:                 Least Squares   F-statistic:                     4469.\n",
      "Date:                Thu, 05 Dec 2019   Prob (F-statistic):               0.00\n",
      "Time:                        05:25:56   Log-Likelihood:            -1.2994e+05\n",
      "No. Observations:               11477   AIC:                         2.599e+05\n",
      "Df Residuals:                   11466   BIC:                         2.600e+05\n",
      "Df Model:                          10                                         \n",
      "Covariance Type:            nonrobust                                         \n",
      "==============================================================================\n",
      "                 coef    std err          t      P>|t|      [0.025      0.975]\n",
      "------------------------------------------------------------------------------\n",
      "const      -6983.7599   5244.607     -1.332      0.183   -1.73e+04    3296.565\n",
      "sectionid   -744.3345     62.086    -11.989      0.000    -866.034    -622.635\n",
      "housetype   1879.8750    252.495      7.445      0.000    1384.941    2374.809\n",
      "area        1300.3734     13.634     95.379      0.000    1273.649    1327.098\n",
      "floor         18.5518     10.026      1.850      0.064      -1.101      38.205\n",
      "allfloor     773.2427     39.381     19.635      0.000     696.050     850.436\n",
      "bedroom    -4572.9663    363.937    -12.565      0.000   -5286.344   -3859.588\n",
      "livingroom -3758.0900    515.587     -7.289      0.000   -4768.730   -2747.450\n",
      "bathroom    1.074e+04    530.404     20.255      0.000    9703.693    1.18e+04\n",
      "id             0.0003      0.000      0.879      0.380      -0.000       0.001\n",
      "post_id        0.0003      0.000      0.856      0.392      -0.000       0.001\n",
      "kind         168.7158     42.981      3.925      0.000      84.465     252.967\n",
      "==============================================================================\n",
      "Omnibus:                     7289.038   Durbin-Watson:                   1.841\n",
      "Prob(Omnibus):                  0.000   Jarque-Bera (JB):           276750.983\n",
      "Skew:                           2.491   Prob(JB):                         0.00\n",
      "Kurtosis:                      26.535   Cond. No.                     1.25e+17\n",
      "==============================================================================\n",
      "\n",
      "Warnings:\n",
      "[1] Standard Errors assume that the covariance matrix of the errors is correctly specified.\n",
      "[2] The smallest eigenvalue is 1.03e-16. This might indicate that there are\n",
      "strong multicollinearity problems or that the design matrix is singular.\n"
     ]
    },
    {
     "name": "stderr",
     "output_type": "stream",
     "text": [
      "/Users/user/.local/share/virtualenvs/python-machine-learning-NYdCQkSJ/lib/python3.7/site-packages/numpy/core/fromnumeric.py:2495: FutureWarning: Method .ptp is deprecated and will be removed in a future version. Use numpy.ptp instead.\n",
      "  return ptp(axis=axis, out=out, **kwargs)\n"
     ]
    }
   ],
   "source": [
    "import statsmodels.api as sm\n",
    "\n",
    "X2 = sm.add_constant(X)\n",
    "est = sm.OLS(Y, X2)\n",
    "est2 = est.fit()\n",
    "print(est2.summary())"
   ]
  },
  {
   "cell_type": "markdown",
   "metadata": {},
   "source": [
    "## 檢驗多元回歸模型"
   ]
  },
  {
   "cell_type": "code",
   "execution_count": 23,
   "metadata": {},
   "outputs": [],
   "source": [
    "predictor_cols = X.columns"
   ]
  },
  {
   "cell_type": "code",
   "execution_count": 24,
   "metadata": {},
   "outputs": [],
   "source": [
    "import itertools\n",
    "\n",
    "AICs = {}\n",
    "for k in range(1, len(predictor_cols) + 1):\n",
    "    for variables in itertools.combinations(predictor_cols, k):\n",
    "        predictors = X[list(variables)]\n",
    "        predictors2 = sm.add_constant(predictors)\n",
    "        est = sm.OLS(Y, predictors2)\n",
    "        res = est.fit()\n",
    "        AICs[variables] = res.aic"
   ]
  },
  {
   "cell_type": "code",
   "execution_count": 25,
   "metadata": {},
   "outputs": [
    {
     "data": {
      "text/plain": [
       "[(('sectionid',\n",
       "   'housetype',\n",
       "   'area',\n",
       "   'floor',\n",
       "   'allfloor',\n",
       "   'bedroom',\n",
       "   'livingroom',\n",
       "   'bathroom',\n",
       "   'kind'),\n",
       "  259908.6836760997),\n",
       " (('sectionid',\n",
       "   'housetype',\n",
       "   'area',\n",
       "   'floor',\n",
       "   'allfloor',\n",
       "   'bedroom',\n",
       "   'livingroom',\n",
       "   'bathroom',\n",
       "   'id',\n",
       "   'post_id',\n",
       "   'kind'),\n",
       "  259909.93053248513),\n",
       " (('sectionid',\n",
       "   'housetype',\n",
       "   'area',\n",
       "   'floor',\n",
       "   'allfloor',\n",
       "   'bedroom',\n",
       "   'livingroom',\n",
       "   'bathroom',\n",
       "   'post_id',\n",
       "   'kind'),\n",
       "  259909.93053248513)]"
      ]
     },
     "execution_count": 25,
     "metadata": {},
     "output_type": "execute_result"
    }
   ],
   "source": [
    "from collections import Counter\n",
    "\n",
    "c = Counter(AICs)\n",
    "c.most_common()[::-1][0:3]"
   ]
  },
  {
   "cell_type": "markdown",
   "metadata": {},
   "source": [
    "## OLS - 參數檢驗"
   ]
  },
  {
   "cell_type": "code",
   "execution_count": 26,
   "metadata": {},
   "outputs": [
    {
     "name": "stdout",
     "output_type": "stream",
     "text": [
      "                            OLS Regression Results                            \n",
      "==============================================================================\n",
      "Dep. Variable:                  price   R-squared:                       0.796\n",
      "Model:                            OLS   Adj. R-squared:                  0.796\n",
      "Method:                 Least Squares   F-statistic:                     4966.\n",
      "Date:                Thu, 05 Dec 2019   Prob (F-statistic):               0.00\n",
      "Time:                        05:26:10   Log-Likelihood:            -1.2994e+05\n",
      "No. Observations:               11477   AIC:                         2.599e+05\n",
      "Df Residuals:                   11467   BIC:                         2.600e+05\n",
      "Df Model:                           9                                         \n",
      "Covariance Type:            nonrobust                                         \n",
      "==============================================================================\n",
      "                 coef    std err          t      P>|t|      [0.025      0.975]\n",
      "------------------------------------------------------------------------------\n",
      "const      -2480.3221    743.328     -3.337      0.001   -3937.372   -1023.272\n",
      "sectionid   -744.5791     62.085    -11.993      0.000    -866.276    -622.882\n",
      "housetype   1904.5046    250.891      7.591      0.000    1412.715    2396.294\n",
      "area        1300.4058     13.634     95.383      0.000    1273.682    1327.130\n",
      "floor         18.6178     10.026      1.857      0.063      -1.034      38.270\n",
      "allfloor     772.8507     39.378     19.627      0.000     695.664     850.038\n",
      "bedroom    -4575.5198    363.921    -12.573      0.000   -5288.867   -3862.173\n",
      "livingroom -3755.2483    515.572     -7.284      0.000   -4765.857   -2744.640\n",
      "bathroom    1.074e+04    530.397     20.254      0.000    9702.835    1.18e+04\n",
      "kind         168.7976     42.981      3.927      0.000      84.548     253.048\n",
      "==============================================================================\n",
      "Omnibus:                     7288.325   Durbin-Watson:                   1.841\n",
      "Prob(Omnibus):                  0.000   Jarque-Bera (JB):           276650.549\n",
      "Skew:                           2.491   Prob(JB):                         0.00\n",
      "Kurtosis:                      26.531   Cond. No.                         169.\n",
      "==============================================================================\n",
      "\n",
      "Warnings:\n",
      "[1] Standard Errors assume that the covariance matrix of the errors is correctly specified.\n"
     ]
    }
   ],
   "source": [
    "import statsmodels.api as sm\n",
    "\n",
    "important_predictors = [\n",
    "    'sectionid',\n",
    "    'housetype',\n",
    "    'area',\n",
    "    'floor',\n",
    "    'allfloor',\n",
    "    'bedroom',\n",
    "    'livingroom',\n",
    "    'bathroom',\n",
    "    'kind'\n",
    "]\n",
    "X = df[important_predictors]\n",
    "Y = df['price']\n",
    "\n",
    "X2 = sm.add_constant(X)\n",
    "est = sm.OLS(Y, X2)\n",
    "est2 = est.fit()\n",
    "print(est2.summary())"
   ]
  },
  {
   "cell_type": "markdown",
   "metadata": {},
   "source": [
    "## 多元回歸分析 - 重要分析參數"
   ]
  },
  {
   "cell_type": "markdown",
   "metadata": {},
   "source": [
    "### 線性回歸"
   ]
  },
  {
   "cell_type": "code",
   "execution_count": 27,
   "metadata": {},
   "outputs": [
    {
     "data": {
      "text/plain": [
       "LinearRegression(copy_X=True, fit_intercept=True, n_jobs=None, normalize=False)"
      ]
     },
     "execution_count": 27,
     "metadata": {},
     "output_type": "execute_result"
    }
   ],
   "source": [
    "from sklearn.linear_model import LinearRegression\n",
    "\n",
    "X = df[important_predictors]\n",
    "Y = df['price']\n",
    "clf = LinearRegression()\n",
    "clf.fit(X, Y)"
   ]
  },
  {
   "cell_type": "code",
   "execution_count": 28,
   "metadata": {},
   "outputs": [
    {
     "data": {
      "text/plain": [
       "399781023.7661828"
      ]
     },
     "execution_count": 28,
     "metadata": {},
     "output_type": "execute_result"
    }
   ],
   "source": [
    "from sklearn.metrics import mean_squared_error\n",
    "\n",
    "mean_squared_error(Y, clf.predict(X))"
   ]
  },
  {
   "cell_type": "markdown",
   "metadata": {},
   "source": [
    "### 隨機森林"
   ]
  },
  {
   "cell_type": "code",
   "execution_count": 29,
   "metadata": {},
   "outputs": [
    {
     "data": {
      "text/plain": [
       "RandomForestRegressor(bootstrap=True, ccp_alpha=0.0, criterion='mse',\n",
       "                      max_depth=None, max_features='auto', max_leaf_nodes=None,\n",
       "                      max_samples=None, min_impurity_decrease=0.0,\n",
       "                      min_impurity_split=None, min_samples_leaf=1,\n",
       "                      min_samples_split=2, min_weight_fraction_leaf=0.0,\n",
       "                      n_estimators=100, n_jobs=None, oob_score=False,\n",
       "                      random_state=None, verbose=0, warm_start=False)"
      ]
     },
     "execution_count": 29,
     "metadata": {},
     "output_type": "execute_result"
    }
   ],
   "source": [
    "from sklearn.ensemble import RandomForestRegressor\n",
    "\n",
    "X = df[important_predictors]\n",
    "Y = df['price']\n",
    "clf2 = RandomForestRegressor()\n",
    "clf2.fit(X, Y)"
   ]
  },
  {
   "cell_type": "code",
   "execution_count": 30,
   "metadata": {},
   "outputs": [
    {
     "data": {
      "text/plain": [
       "23669517.429290373"
      ]
     },
     "execution_count": 30,
     "metadata": {},
     "output_type": "execute_result"
    }
   ],
   "source": [
    "from sklearn.metrics import mean_squared_error\n",
    "\n",
    "mean_squared_error(Y, clf2.predict(X))"
   ]
  },
  {
   "cell_type": "markdown",
   "metadata": {},
   "source": [
    "## 測試"
   ]
  },
  {
   "cell_type": "code",
   "execution_count": 31,
   "metadata": {},
   "outputs": [
    {
     "data": {
      "text/plain": [
       "(array([18147.06719643]), array([16410.49]))"
      ]
     },
     "execution_count": 31,
     "metadata": {},
     "output_type": "execute_result"
    }
   ],
   "source": [
    "sectionid = 1\n",
    "housetype = 1\n",
    "area = 10\n",
    "floor = 1\n",
    "allfloor = 5\n",
    "bedroom = 1\n",
    "livingroom = 1\n",
    "bathroom = 1\n",
    "kind = 1\n",
    "test_data = numpy.array([[sectionid,\n",
    "                          housetype,\n",
    "                          area,\n",
    "                          floor,\n",
    "                          allfloor,\n",
    "                          bedroom,\n",
    "                          livingroom,\n",
    "                          bathroom,\n",
    "                          kind]])\n",
    "clf.predict(test_data), clf2.predict(test_data)"
   ]
  }
 ],
 "metadata": {
  "kernelspec": {
   "display_name": "Python 3",
   "language": "python",
   "name": "python3"
  },
  "language_info": {
   "codemirror_mode": {
    "name": "ipython",
    "version": 3
   },
   "file_extension": ".py",
   "mimetype": "text/x-python",
   "name": "python",
   "nbconvert_exporter": "python",
   "pygments_lexer": "ipython3",
   "version": "3.7.5"
  }
 },
 "nbformat": 4,
 "nbformat_minor": 2
}
